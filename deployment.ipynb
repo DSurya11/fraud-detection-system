{
 "cells": [
  {
   "cell_type": "code",
   "execution_count": 1,
   "id": "174cd504-787e-4507-9586-37d90bf0f0a8",
   "metadata": {},
   "outputs": [],
   "source": [
    "import joblib\n",
    "import numpy as np\n",
    "import pandas as pd\n",
    "from tensorflow.keras.models import load_model\n",
    "from fastapi import FastAPI\n",
    "from pydantic import BaseModel\n",
    "\n",
    "rf = joblib.load(\"rf_fraud_model.pkl\")\n",
    "xgb = joblib.load(\"xgb_fraud_model.pkl\")\n",
    "meta = joblib.load(\"meta_model.pkl\")\n",
    "autoencoder = load_model(\"autoencoder_model.h5\", compile=False)\n",
    "lstm_model = load_model(\"lstm_model.h5\", compile=False)\n",
    "gru_model = load_model(\"gru_model.h5\", compile=False)\n",
    "\n",
    "scaler = joblib.load(\"scaler.pkl\")\n",
    "\n",
    "app = FastAPI()\n",
    "\n",
    "class Transaction(BaseModel):\n",
    "    data: list\n",
    "\n",
    "@app.post(\"/predict\")\n",
    "def predict(transaction: Transaction):\n",
    "    x = np.array(transaction.data).reshape(1, -1)\n",
    "    x_scaled = scaler.transform(x)\n",
    "    x_seq = x_scaled.reshape((1, 1, x_scaled.shape[1]))\n",
    "\n",
    "    y_rf = rf.predict(x_scaled)[0]\n",
    "    y_xgb = xgb.predict(x_scaled)[0]\n",
    "\n",
    "    x_ae_pred = autoencoder.predict(x_scaled)\n",
    "    ae_error = np.mean(np.square(x_scaled - x_ae_pred), axis=1)\n",
    "    y_ae = int(ae_error > np.percentile(ae_error, 95))\n",
    "\n",
    "    y_lstm = int((lstm_model.predict(x_seq) > 0.5)[0][0])\n",
    "    y_gru = int((gru_model.predict(x_seq) > 0.5)[0][0])\n",
    "\n",
    "    stacked = np.array([[y_rf, y_xgb, y_ae, y_lstm, y_gru]])\n",
    "    y_final = int(meta.predict(stacked)[0])\n",
    "\n",
    "    return {\"fraud\": bool(y_final)}\n"
   ]
  },
  {
   "cell_type": "code",
   "execution_count": null,
   "id": "b70efda2-2cd0-4fb0-a546-c4226f886722",
   "metadata": {},
   "outputs": [],
   "source": []
  }
 ],
 "metadata": {
  "kernelspec": {
   "display_name": "Python 3 (ipykernel)",
   "language": "python",
   "name": "python3"
  },
  "language_info": {
   "codemirror_mode": {
    "name": "ipython",
    "version": 3
   },
   "file_extension": ".py",
   "mimetype": "text/x-python",
   "name": "python",
   "nbconvert_exporter": "python",
   "pygments_lexer": "ipython3",
   "version": "3.10.18"
  }
 },
 "nbformat": 4,
 "nbformat_minor": 5
}
