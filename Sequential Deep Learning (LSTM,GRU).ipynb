{
 "cells": [
  {
   "cell_type": "code",
   "execution_count": 1,
   "id": "5e64178a-ade4-47e0-ba9d-dca7f0d50818",
   "metadata": {},
   "outputs": [],
   "source": [
    "import pandas as pd\n",
    "import numpy as np\n",
    "from sklearn.preprocessing import StandardScaler\n",
    "\n",
    "train = pd.read_csv(\"train_res.csv\")\n",
    "test = pd.read_csv(\"test_set.csv\")\n",
    "\n",
    "X_train = train.drop(\"Class\", axis=1)\n",
    "y_train = train[\"Class\"]\n",
    "X_test = test.drop(\"Class\", axis=1)\n",
    "y_test = test[\"Class\"]\n",
    "\n",
    "scaler = StandardScaler()\n",
    "X_train_scaled = scaler.fit_transform(X_train)\n",
    "X_test_scaled = scaler.transform(X_test)\n",
    "\n",
    "timesteps = 1\n",
    "X_train_seq = X_train_scaled.reshape((X_train_scaled.shape[0], timesteps, X_train_scaled.shape[1]))\n",
    "X_test_seq = X_test_scaled.reshape((X_test_scaled.shape[0], timesteps, X_test_scaled.shape[1]))\n"
   ]
  },
  {
   "cell_type": "code",
   "execution_count": 2,
   "id": "a03d8b5c-be15-4ad6-af06-bfa79d5a4092",
   "metadata": {},
   "outputs": [
    {
     "name": "stderr",
     "output_type": "stream",
     "text": [
      "C:\\Users\\surya\\Desktop\\sample_project_1\\env\\lib\\site-packages\\keras\\src\\layers\\rnn\\rnn.py:199: UserWarning: Do not pass an `input_shape`/`input_dim` argument to a layer. When using Sequential models, prefer using an `Input(shape)` object as the first layer in the model instead.\n",
      "  super().__init__(**kwargs)\n"
     ]
    },
    {
     "name": "stdout",
     "output_type": "stream",
     "text": [
      "Epoch 1/10\n",
      "\u001b[1m1600/1600\u001b[0m \u001b[32m━━━━━━━━━━━━━━━━━━━━\u001b[0m\u001b[37m\u001b[0m \u001b[1m7s\u001b[0m 3ms/step - accuracy: 0.9479 - loss: 0.1438 - val_accuracy: 0.9535 - val_loss: 0.0956\n",
      "Epoch 2/10\n",
      "\u001b[1m1600/1600\u001b[0m \u001b[32m━━━━━━━━━━━━━━━━━━━━\u001b[0m\u001b[37m\u001b[0m \u001b[1m4s\u001b[0m 3ms/step - accuracy: 0.9817 - loss: 0.0547 - val_accuracy: 0.9819 - val_loss: 0.0481\n",
      "Epoch 3/10\n",
      "\u001b[1m1600/1600\u001b[0m \u001b[32m━━━━━━━━━━━━━━━━━━━━\u001b[0m\u001b[37m\u001b[0m \u001b[1m5s\u001b[0m 3ms/step - accuracy: 0.9903 - loss: 0.0311 - val_accuracy: 0.9921 - val_loss: 0.0245\n",
      "Epoch 4/10\n",
      "\u001b[1m1600/1600\u001b[0m \u001b[32m━━━━━━━━━━━━━━━━━━━━\u001b[0m\u001b[37m\u001b[0m \u001b[1m5s\u001b[0m 2ms/step - accuracy: 0.9943 - loss: 0.0196 - val_accuracy: 0.9958 - val_loss: 0.0158\n",
      "Epoch 5/10\n",
      "\u001b[1m1600/1600\u001b[0m \u001b[32m━━━━━━━━━━━━━━━━━━━━\u001b[0m\u001b[37m\u001b[0m \u001b[1m4s\u001b[0m 3ms/step - accuracy: 0.9964 - loss: 0.0136 - val_accuracy: 0.9983 - val_loss: 0.0096\n",
      "Epoch 6/10\n",
      "\u001b[1m1600/1600\u001b[0m \u001b[32m━━━━━━━━━━━━━━━━━━━━\u001b[0m\u001b[37m\u001b[0m \u001b[1m5s\u001b[0m 2ms/step - accuracy: 0.9975 - loss: 0.0101 - val_accuracy: 0.9991 - val_loss: 0.0069\n",
      "Epoch 7/10\n",
      "\u001b[1m1600/1600\u001b[0m \u001b[32m━━━━━━━━━━━━━━━━━━━━\u001b[0m\u001b[37m\u001b[0m \u001b[1m6s\u001b[0m 3ms/step - accuracy: 0.9982 - loss: 0.0079 - val_accuracy: 0.9995 - val_loss: 0.0065\n",
      "Epoch 8/10\n",
      "\u001b[1m1600/1600\u001b[0m \u001b[32m━━━━━━━━━━━━━━━━━━━━\u001b[0m\u001b[37m\u001b[0m \u001b[1m5s\u001b[0m 2ms/step - accuracy: 0.9986 - loss: 0.0064 - val_accuracy: 0.9997 - val_loss: 0.0063\n",
      "Epoch 9/10\n",
      "\u001b[1m1600/1600\u001b[0m \u001b[32m━━━━━━━━━━━━━━━━━━━━\u001b[0m\u001b[37m\u001b[0m \u001b[1m5s\u001b[0m 3ms/step - accuracy: 0.9989 - loss: 0.0053 - val_accuracy: 1.0000 - val_loss: 0.0033\n",
      "Epoch 10/10\n",
      "\u001b[1m1600/1600\u001b[0m \u001b[32m━━━━━━━━━━━━━━━━━━━━\u001b[0m\u001b[37m\u001b[0m \u001b[1m5s\u001b[0m 2ms/step - accuracy: 0.9991 - loss: 0.0045 - val_accuracy: 1.0000 - val_loss: 0.0034\n"
     ]
    },
    {
     "data": {
      "text/plain": [
       "<keras.src.callbacks.history.History at 0x196d89a5660>"
      ]
     },
     "execution_count": 2,
     "metadata": {},
     "output_type": "execute_result"
    }
   ],
   "source": [
    "from tensorflow.keras.models import Sequential\n",
    "from tensorflow.keras.layers import LSTM, Dense\n",
    "\n",
    "lstm_model = Sequential()\n",
    "lstm_model.add(LSTM(32, input_shape=(timesteps, X_train_seq.shape[2])))\n",
    "lstm_model.add(Dense(1, activation=\"sigmoid\"))\n",
    "\n",
    "lstm_model.compile(optimizer=\"adam\", loss=\"binary_crossentropy\", metrics=[\"accuracy\"])\n",
    "lstm_model.fit(X_train_seq, y_train, epochs=10, batch_size=256, validation_split=0.1, shuffle=True)\n"
   ]
  },
  {
   "cell_type": "code",
   "execution_count": 3,
   "id": "4a319034-c12b-4408-83e8-7366a0def9bf",
   "metadata": {},
   "outputs": [
    {
     "name": "stdout",
     "output_type": "stream",
     "text": [
      "\u001b[1m1781/1781\u001b[0m \u001b[32m━━━━━━━━━━━━━━━━━━━━\u001b[0m\u001b[37m\u001b[0m \u001b[1m2s\u001b[0m 861us/step\n",
      "LSTM Precision: 0.41\n",
      "LSTM Recall: 0.8367346938775511\n",
      "LSTM F1: 0.5503355704697986\n",
      "LSTM AUC: 0.9173297836298279\n"
     ]
    }
   ],
   "source": [
    "from sklearn.metrics import precision_score, recall_score, f1_score, roc_auc_score\n",
    "\n",
    "y_pred_lstm = (lstm_model.predict(X_test_seq) > 0.5).astype(int)\n",
    "print(\"LSTM Precision:\", precision_score(y_test, y_pred_lstm))\n",
    "print(\"LSTM Recall:\", recall_score(y_test, y_pred_lstm))\n",
    "print(\"LSTM F1:\", f1_score(y_test, y_pred_lstm))\n",
    "print(\"LSTM AUC:\", roc_auc_score(y_test, y_pred_lstm))\n"
   ]
  },
  {
   "cell_type": "code",
   "execution_count": 4,
   "id": "85a61030-6f5f-4b38-b5d3-49f1d10cfbb9",
   "metadata": {},
   "outputs": [
    {
     "name": "stdout",
     "output_type": "stream",
     "text": [
      "Epoch 1/10\n"
     ]
    },
    {
     "name": "stderr",
     "output_type": "stream",
     "text": [
      "C:\\Users\\surya\\Desktop\\sample_project_1\\env\\lib\\site-packages\\keras\\src\\layers\\rnn\\rnn.py:199: UserWarning: Do not pass an `input_shape`/`input_dim` argument to a layer. When using Sequential models, prefer using an `Input(shape)` object as the first layer in the model instead.\n",
      "  super().__init__(**kwargs)\n"
     ]
    },
    {
     "name": "stdout",
     "output_type": "stream",
     "text": [
      "\u001b[1m1600/1600\u001b[0m \u001b[32m━━━━━━━━━━━━━━━━━━━━\u001b[0m\u001b[37m\u001b[0m \u001b[1m6s\u001b[0m 3ms/step - accuracy: 0.9469 - loss: 0.1358 - val_accuracy: 0.9523 - val_loss: 0.0971\n",
      "Epoch 2/10\n",
      "\u001b[1m1600/1600\u001b[0m \u001b[32m━━━━━━━━━━━━━━━━━━━━\u001b[0m\u001b[37m\u001b[0m \u001b[1m5s\u001b[0m 2ms/step - accuracy: 0.9821 - loss: 0.0534 - val_accuracy: 0.9766 - val_loss: 0.0603\n",
      "Epoch 3/10\n",
      "\u001b[1m1600/1600\u001b[0m \u001b[32m━━━━━━━━━━━━━━━━━━━━\u001b[0m\u001b[37m\u001b[0m \u001b[1m5s\u001b[0m 2ms/step - accuracy: 0.9906 - loss: 0.0310 - val_accuracy: 0.9949 - val_loss: 0.0221\n",
      "Epoch 4/10\n",
      "\u001b[1m1600/1600\u001b[0m \u001b[32m━━━━━━━━━━━━━━━━━━━━\u001b[0m\u001b[37m\u001b[0m \u001b[1m6s\u001b[0m 3ms/step - accuracy: 0.9947 - loss: 0.0196 - val_accuracy: 0.9973 - val_loss: 0.0140\n",
      "Epoch 5/10\n",
      "\u001b[1m1600/1600\u001b[0m \u001b[32m━━━━━━━━━━━━━━━━━━━━\u001b[0m\u001b[37m\u001b[0m \u001b[1m6s\u001b[0m 3ms/step - accuracy: 0.9965 - loss: 0.0137 - val_accuracy: 0.9985 - val_loss: 0.0119\n",
      "Epoch 6/10\n",
      "\u001b[1m1600/1600\u001b[0m \u001b[32m━━━━━━━━━━━━━━━━━━━━\u001b[0m\u001b[37m\u001b[0m \u001b[1m5s\u001b[0m 3ms/step - accuracy: 0.9976 - loss: 0.0101 - val_accuracy: 0.9997 - val_loss: 0.0062\n",
      "Epoch 7/10\n",
      "\u001b[1m1600/1600\u001b[0m \u001b[32m━━━━━━━━━━━━━━━━━━━━\u001b[0m\u001b[37m\u001b[0m \u001b[1m4s\u001b[0m 3ms/step - accuracy: 0.9982 - loss: 0.0079 - val_accuracy: 0.9997 - val_loss: 0.0057\n",
      "Epoch 8/10\n",
      "\u001b[1m1600/1600\u001b[0m \u001b[32m━━━━━━━━━━━━━━━━━━━━\u001b[0m\u001b[37m\u001b[0m \u001b[1m5s\u001b[0m 3ms/step - accuracy: 0.9985 - loss: 0.0064 - val_accuracy: 0.9997 - val_loss: 0.0051\n",
      "Epoch 9/10\n",
      "\u001b[1m1600/1600\u001b[0m \u001b[32m━━━━━━━━━━━━━━━━━━━━\u001b[0m\u001b[37m\u001b[0m \u001b[1m5s\u001b[0m 3ms/step - accuracy: 0.9988 - loss: 0.0053 - val_accuracy: 1.0000 - val_loss: 0.0023\n",
      "Epoch 10/10\n",
      "\u001b[1m1600/1600\u001b[0m \u001b[32m━━━━━━━━━━━━━━━━━━━━\u001b[0m\u001b[37m\u001b[0m \u001b[1m12s\u001b[0m 4ms/step - accuracy: 0.9990 - loss: 0.0045 - val_accuracy: 0.9998 - val_loss: 0.0034\n"
     ]
    },
    {
     "data": {
      "text/plain": [
       "<keras.src.callbacks.history.History at 0x196d9049ab0>"
      ]
     },
     "execution_count": 4,
     "metadata": {},
     "output_type": "execute_result"
    }
   ],
   "source": [
    "from tensorflow.keras.layers import GRU\n",
    "\n",
    "gru_model = Sequential()\n",
    "gru_model.add(GRU(32, input_shape=(timesteps, X_train_seq.shape[2])))\n",
    "gru_model.add(Dense(1, activation=\"sigmoid\"))\n",
    "\n",
    "gru_model.compile(optimizer=\"adam\", loss=\"binary_crossentropy\", metrics=[\"accuracy\"])\n",
    "gru_model.fit(X_train_seq, y_train, epochs=10, batch_size=256, validation_split=0.1, shuffle=True)\n"
   ]
  },
  {
   "cell_type": "code",
   "execution_count": 5,
   "id": "86bad179-7952-4624-a895-2955c015c402",
   "metadata": {},
   "outputs": [
    {
     "name": "stdout",
     "output_type": "stream",
     "text": [
      "\u001b[1m1781/1781\u001b[0m \u001b[32m━━━━━━━━━━━━━━━━━━━━\u001b[0m\u001b[37m\u001b[0m \u001b[1m3s\u001b[0m 1ms/step\n",
      "GRU Precision: 0.43315508021390375\n",
      "GRU Recall: 0.826530612244898\n",
      "GRU F1: 0.5684210526315789\n",
      "GRU AUC: 0.9123332577262756\n"
     ]
    }
   ],
   "source": [
    "y_pred_gru = (gru_model.predict(X_test_seq) > 0.5).astype(int)\n",
    "print(\"GRU Precision:\", precision_score(y_test, y_pred_gru))\n",
    "print(\"GRU Recall:\", recall_score(y_test, y_pred_gru))\n",
    "print(\"GRU F1:\", f1_score(y_test, y_pred_gru))\n",
    "print(\"GRU AUC:\", roc_auc_score(y_test, y_pred_gru))\n"
   ]
  },
  {
   "cell_type": "code",
   "execution_count": 6,
   "id": "963c999f-8f30-4e5b-b55c-bf88ecffe35d",
   "metadata": {},
   "outputs": [
    {
     "name": "stderr",
     "output_type": "stream",
     "text": [
      "WARNING:absl:You are saving your model as an HDF5 file via `model.save()` or `keras.saving.save_model(model)`. This file format is considered legacy. We recommend using instead the native Keras format, e.g. `model.save('my_model.keras')` or `keras.saving.save_model(model, 'my_model.keras')`. \n",
      "WARNING:absl:You are saving your model as an HDF5 file via `model.save()` or `keras.saving.save_model(model)`. This file format is considered legacy. We recommend using instead the native Keras format, e.g. `model.save('my_model.keras')` or `keras.saving.save_model(model, 'my_model.keras')`. \n"
     ]
    }
   ],
   "source": [
    "lstm_model.save(\"lstm_model.h5\")\n",
    "gru_model.save(\"gru_model.h5\")"
   ]
  },
  {
   "cell_type": "code",
   "execution_count": null,
   "id": "2bf6ae93-ccef-4af6-b3b0-da7c47a33685",
   "metadata": {},
   "outputs": [],
   "source": []
  }
 ],
 "metadata": {
  "kernelspec": {
   "display_name": "Python 3 (ipykernel)",
   "language": "python",
   "name": "python3"
  },
  "language_info": {
   "codemirror_mode": {
    "name": "ipython",
    "version": 3
   },
   "file_extension": ".py",
   "mimetype": "text/x-python",
   "name": "python",
   "nbconvert_exporter": "python",
   "pygments_lexer": "ipython3",
   "version": "3.10.18"
  }
 },
 "nbformat": 4,
 "nbformat_minor": 5
}
