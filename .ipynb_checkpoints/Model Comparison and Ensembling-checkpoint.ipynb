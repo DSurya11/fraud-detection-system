{
 "cells": [
  {
   "cell_type": "code",
   "execution_count": 2,
   "id": "28b70e2e-e3f8-40b1-b015-2ed1eed6824e",
   "metadata": {},
   "outputs": [],
   "source": [
    "import pandas as pd\n",
    "\n",
    "test = pd.read_csv(\"test_set.csv\")\n",
    "X_test = test.drop(\"Class\", axis=1)\n",
    "y_test = test[\"Class\"]\n"
   ]
  },
  {
   "cell_type": "code",
   "execution_count": 5,
   "id": "5eca7f3d-35c2-4e41-9fa4-f99c4728099e",
   "metadata": {},
   "outputs": [],
   "source": [
    "import joblib\n",
    "from tensorflow.keras.models import load_model\n",
    "\n",
    "rf = joblib.load(\"rf_fraud_model.pkl\")\n",
    "xgb = joblib.load(\"xgb_fraud_model.pkl\")\n",
    "\n",
    "autoencoder = load_model(\"autoencoder_model.h5\", compile=False)\n",
    "lstm_model = load_model(\"lstm_model.h5\", compile=False)\n",
    "gru_model = load_model(\"gru_model.h5\", compile=False)\n",
    "\n"
   ]
  },
  {
   "cell_type": "code",
   "execution_count": 6,
   "id": "465077b2-d442-4279-a204-45f071508085",
   "metadata": {},
   "outputs": [
    {
     "name": "stdout",
     "output_type": "stream",
     "text": [
      "\u001b[1m1781/1781\u001b[0m \u001b[32m━━━━━━━━━━━━━━━━━━━━\u001b[0m\u001b[37m\u001b[0m \u001b[1m1s\u001b[0m 759us/step\n",
      "\u001b[1m1781/1781\u001b[0m \u001b[32m━━━━━━━━━━━━━━━━━━━━\u001b[0m\u001b[37m\u001b[0m \u001b[1m1s\u001b[0m 736us/step\n",
      "\u001b[1m1781/1781\u001b[0m \u001b[32m━━━━━━━━━━━━━━━━━━━━\u001b[0m\u001b[37m\u001b[0m \u001b[1m2s\u001b[0m 828us/step\n"
     ]
    }
   ],
   "source": [
    "import numpy as np\n",
    "\n",
    "y_pred_rf = rf.predict(X_test)\n",
    "y_pred_xgb = xgb.predict(X_test)\n",
    "\n",
    "X_test_pred = autoencoder.predict(X_test)\n",
    "ae_errors = np.mean(np.square(X_test - X_test_pred), axis=1)\n",
    "y_pred_ae = (ae_errors > np.percentile(ae_errors[y_test==0], 95)).astype(int)\n",
    "\n",
    "X_test_seq = X_test.values.reshape((X_test.shape[0], 1, X_test.shape[1]))\n",
    "y_pred_lstm = (lstm_model.predict(X_test_seq) > 0.5).astype(int).flatten()\n",
    "y_pred_gru = (gru_model.predict(X_test_seq) > 0.5).astype(int).flatten()\n",
    "\n",
    "stacked_features = np.column_stack([y_pred_rf, y_pred_xgb, y_pred_ae, y_pred_lstm, y_pred_gru])\n"
   ]
  },
  {
   "cell_type": "code",
   "execution_count": 7,
   "id": "55e895d2-cfee-4f78-81e4-a37ba299fa8a",
   "metadata": {},
   "outputs": [
    {
     "name": "stdout",
     "output_type": "stream",
     "text": [
      "              precision    recall  f1-score   support\n",
      "\n",
      "           0       1.00      1.00      1.00     56864\n",
      "           1       0.86      0.84      0.85        98\n",
      "\n",
      "    accuracy                           1.00     56962\n",
      "   macro avg       0.93      0.92      0.92     56962\n",
      "weighted avg       1.00      1.00      1.00     56962\n",
      "\n"
     ]
    }
   ],
   "source": [
    "from sklearn.linear_model import LogisticRegression\n",
    "from sklearn.metrics import classification_report\n",
    "\n",
    "meta = LogisticRegression()\n",
    "meta.fit(stacked_features, y_test)\n",
    "y_meta = meta.predict(stacked_features)\n",
    "\n",
    "print(classification_report(y_test, y_meta))\n"
   ]
  },
  {
   "cell_type": "code",
   "execution_count": 8,
   "id": "49b80556-9d98-4ac8-bf4f-9e945c394396",
   "metadata": {},
   "outputs": [
    {
     "data": {
      "text/plain": [
       "['meta_model.pkl']"
      ]
     },
     "execution_count": 8,
     "metadata": {},
     "output_type": "execute_result"
    }
   ],
   "source": [
    "joblib.dump(meta, \"meta_model.pkl\")\n"
   ]
  },
  {
   "cell_type": "code",
   "execution_count": null,
   "id": "7df4c59f-1d09-41ee-80c4-f91a658a7008",
   "metadata": {},
   "outputs": [],
   "source": []
  }
 ],
 "metadata": {
  "kernelspec": {
   "display_name": "Python 3 (ipykernel)",
   "language": "python",
   "name": "python3"
  },
  "language_info": {
   "codemirror_mode": {
    "name": "ipython",
    "version": 3
   },
   "file_extension": ".py",
   "mimetype": "text/x-python",
   "name": "python",
   "nbconvert_exporter": "python",
   "pygments_lexer": "ipython3",
   "version": "3.10.18"
  }
 },
 "nbformat": 4,
 "nbformat_minor": 5
}
