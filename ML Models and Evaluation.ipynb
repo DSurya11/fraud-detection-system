{
 "cells": [
  {
   "cell_type": "code",
   "execution_count": 1,
   "id": "42036643-7528-41be-ad87-79c93e8f9e8f",
   "metadata": {},
   "outputs": [],
   "source": [
    "from sklearn.linear_model import LogisticRegression\n",
    "from sklearn.ensemble import RandomForestClassifier\n",
    "import xgboost as xgb\n",
    "from sklearn.metrics import precision_score, recall_score, f1_score, roc_auc_score, confusion_matrix\n",
    "import seaborn as sns\n",
    "import matplotlib.pyplot as plt\n",
    "import pandas as pd"
   ]
  },
  {
   "cell_type": "code",
   "execution_count": 2,
   "id": "568b5f7d-ee2e-45c2-99f9-b9503428e2b4",
   "metadata": {},
   "outputs": [],
   "source": [
    "\n",
    "train = pd.read_csv(\"train_res.csv\")\n",
    "X_train = train.drop(\"Class\", axis=1)\n",
    "y_train = train[\"Class\"]\n",
    "\n",
    "\n",
    "test = pd.read_csv(\"test_set.csv\")\n",
    "X_test = test.drop(\"Class\", axis=1)\n",
    "y_test = test[\"Class\"]\n"
   ]
  },
  {
   "cell_type": "code",
   "execution_count": 3,
   "id": "75fd2218-4e68-4c18-9fe5-7a580108385f",
   "metadata": {},
   "outputs": [],
   "source": [
    "lr = LogisticRegression(max_iter=1000, random_state=42)\n",
    "lr.fit(X_train, y_train)\n",
    "\n",
    "y_pred_lr = lr.predict(X_test)\n",
    "y_prob_lr = lr.predict_proba(X_test)[:,1]\n"
   ]
  },
  {
   "cell_type": "code",
   "execution_count": 6,
   "id": "d422f1b2-6719-4bf9-adcf-19278e7355b7",
   "metadata": {},
   "outputs": [
    {
     "name": "stdout",
     "output_type": "stream",
     "text": [
      "Logistic Regression Metrics:\n",
      "Precision: 0.058027079303675046\n",
      "Recall: 0.9183673469387755\n",
      "F1-score: 0.1091570648878108\n",
      "AUC-ROC: 0.9698631105509169\n"
     ]
    }
   ],
   "source": [
    "print(\"Logistic Regression Metrics:\")\n",
    "print(\"Precision:\", precision_score(y_test, y_pred_lr))\n",
    "print(\"Recall:\", recall_score(y_test, y_pred_lr))\n",
    "print(\"F1-score:\", f1_score(y_test, y_pred_lr))\n",
    "print(\"AUC-ROC:\", roc_auc_score(y_test, y_prob_lr))"
   ]
  },
  {
   "cell_type": "code",
   "execution_count": 5,
   "id": "768c7436-2a3f-43c6-9147-9efc7cc89af8",
   "metadata": {},
   "outputs": [
    {
     "data": {
      "image/png": "[encoded data removed]",
      "text/plain": [
       "<Figure size 640x480 with 2 Axes>"
      ]
     },
     "metadata": {},
     "output_type": "display_data"
    }
   ],
   "source": [
    "cm = confusion_matrix(y_test, y_pred_lr)\n",
    "sns.heatmap(cm, annot=True, fmt=\"d\", cmap=\"Blues\")\n",
    "plt.title(\"LR Confusion Matrix\")\n",
    "plt.show()\n"
   ]
  },
  {
   "cell_type": "code",
   "execution_count": 7,
   "id": "699d8281-34ef-40cc-9f62-215692d9e7e9",
   "metadata": {},
   "outputs": [
    {
     "name": "stdout",
     "output_type": "stream",
     "text": [
      "Random Forest Metrics:\n",
      "Precision: 0.845360824742268\n",
      "Recall: 0.8367346938775511\n",
      "F1-score: 0.841025641025641\n",
      "AUC-ROC: 0.9731024901519414\n"
     ]
    }
   ],
   "source": [
    "rf = RandomForestClassifier(n_estimators=100, random_state=42)\n",
    "rf.fit(X_train, y_train)\n",
    "\n",
    "y_pred_rf = rf.predict(X_test)\n",
    "y_prob_rf = rf.predict_proba(X_test)[:,1]\n",
    "\n",
    "\n",
    "print(\"Random Forest Metrics:\")\n",
    "print(\"Precision:\", precision_score(y_test, y_pred_rf))\n",
    "print(\"Recall:\", recall_score(y_test, y_pred_rf))\n",
    "print(\"F1-score:\", f1_score(y_test, y_pred_rf))\n",
    "print(\"AUC-ROC:\", roc_auc_score(y_test, y_prob_rf))\n"
   ]
  },
  {
   "cell_type": "code",
   "execution_count": 8,
   "id": "9c9cb868-c157-4770-9e97-55c999fcec3c",
   "metadata": {},
   "outputs": [
    {
     "name": "stderr",
     "output_type": "stream",
     "text": [
      "C:\\Users\\surya\\Desktop\\sample_project_1\\env\\lib\\site-packages\\xgboost\\training.py:183: UserWarning: [17:10:47] WARNING: C:\\actions-runner\\_work\\xgboost\\xgboost\\src\\learner.cc:738: \n",
      "Parameters: { \"use_label_encoder\" } are not used.\n",
      "\n",
      "  bst.update(dtrain, iteration=i, fobj=obj)\n"
     ]
    },
    {
     "name": "stdout",
     "output_type": "stream",
     "text": [
      "XGBoost Metrics:\n",
      "Precision: 0.45989304812834225\n",
      "Recall: 0.8775510204081632\n",
      "F1-score: 0.6035087719298246\n",
      "AUC-ROC: 0.9801059527637729\n"
     ]
    }
   ],
   "source": [
    "xgb_model = xgb.XGBClassifier(\n",
    "    n_estimators=200, max_depth=5, learning_rate=0.1, \n",
    "    random_state=42, use_label_encoder=False, eval_metric='logloss'\n",
    ")\n",
    "xgb_model.fit(X_train, y_train)\n",
    "\n",
    "y_pred_xgb = xgb_model.predict(X_test)\n",
    "y_prob_xgb = xgb_model.predict_proba(X_test)[:,1]\n",
    "\n",
    "print(\"XGBoost Metrics:\")\n",
    "print(\"Precision:\", precision_score(y_test, y_pred_xgb))\n",
    "print(\"Recall:\", recall_score(y_test, y_pred_xgb))\n",
    "print(\"F1-score:\", f1_score(y_test, y_pred_xgb))\n",
    "print(\"AUC-ROC:\", roc_auc_score(y_test, y_prob_xgb))\n"
   ]
  },
  {
   "cell_type": "code",
   "execution_count": 10,
   "id": "d55f0735-ef8c-4e63-8a1d-f9544fe7b568",
   "metadata": {},
   "outputs": [
    {
     "data": {
      "text/plain": [
       "['xgb_fraud_model.pkl']"
      ]
     },
     "execution_count": 10,
     "metadata": {},
     "output_type": "execute_result"
    }
   ],
   "source": [
    "import joblib\n",
    "joblib.dump(xgb_model, \"xgb_fraud_model.pkl\")\n"
   ]
  },
  {
   "cell_type": "code",
   "execution_count": 11,
   "id": "d2d7c7a0-50a8-42a8-8194-f4faa676125f",
   "metadata": {},
   "outputs": [
    {
     "data": {
      "text/plain": [
       "['rf_fraud_model.pkl']"
      ]
     },
     "execution_count": 11,
     "metadata": {},
     "output_type": "execute_result"
    }
   ],
   "source": [
    "joblib.dump(rf, \"rf_fraud_model.pkl\")"
   ]
  },
  {
   "cell_type": "code",
   "execution_count": null,
   "id": "0867d714-02c1-4732-b116-d660fbdb005e",
   "metadata": {},
   "outputs": [],
   "source": []
  }
 ],
 "metadata": {
  "kernelspec": {
   "display_name": "Python 3 (ipykernel)",
   "language": "python",
   "name": "python3"
  },
  "language_info": {
   "codemirror_mode": {
    "name": "ipython",
    "version": 3
   },
   "file_extension": ".py",
   "mimetype": "text/x-python",
   "name": "python",
   "nbconvert_exporter": "python",
   "pygments_lexer": "ipython3",
   "version": "3.10.18"
  }
 },
 "nbformat": 4,
 "nbformat_minor": 5
}
